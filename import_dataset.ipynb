{
 "cells": [
  {
   "cell_type": "code",
   "execution_count": 1,
   "metadata": {},
   "outputs": [],
   "source": [
    "import os\n",
    "import cv2\n",
    "import numpy as np\n",
    "import pandas as pd"
   ]
  },
  {
   "cell_type": "code",
   "execution_count": 2,
   "metadata": {},
   "outputs": [
    {
     "name": "stdout",
     "output_type": "stream",
     "text": [
      "Dataset salvato in 'images_dataset.csv'\n"
     ]
    }
   ],
   "source": [
    "# Cartella contenente le immagini\n",
    "image_folder = \"C:\\\\Users\\\\ACER\\\\Downloads\\\\ahmed\"\n",
    "\n",
    "# Lista per i dati\n",
    "data = []\n",
    "\n",
    "# Itera sulle immagini nella cartella\n",
    "for file_name in os.listdir(image_folder):\n",
    "    if file_name.endswith('.jpg') or file_name.endswith('.jpeg'):\n",
    "        # Leggi l'immagine\n",
    "        img_path = os.path.join(image_folder, file_name)\n",
    "        img = cv2.imread(img_path, cv2.IMREAD_GRAYSCALE)  # Usa IMREAD_COLOR per RGB\n",
    "        \n",
    "        # Ridimensiona l'immagine per uniformità\n",
    "        img_resized = cv2.resize(img, (64, 64))  # Adatta la dimensione secondo necessità\n",
    "        \n",
    "        # Appiattisci l'immagine in un vettore e aggiungila al dataset\n",
    "        img_flatten = img_resized.flatten()\n",
    "        data.append(img_flatten)\n",
    "\n",
    "# Converti i dati in un DataFrame\n",
    "df = pd.DataFrame(data)\n",
    "\n",
    "# Salva il DataFrame in CSV\n",
    "df.to_csv('face_dataset.csv', index=False)\n",
    "print(\"Dataset salvato in 'images_dataset.csv'\")\n"
   ]
  },
  {
   "cell_type": "code",
   "execution_count": null,
   "metadata": {},
   "outputs": [
    {
     "name": "stdout",
     "output_type": "stream",
     "text": [
      "Dataset salvato in 'images_dataset32.csv'\n"
     ]
    }
   ],
   "source": [
    "# Cartella contenente le immagini\n",
    "image_folder = \"C:\\\\Users\\\\ACER\\\\Downloads\\\\archive (2)\"\n",
    "\n",
    "# Lista per i dati\n",
    "data = []\n",
    "\n",
    "# Itera sulle immagini nella cartella\n",
    "for file_name in os.listdir(image_folder):\n",
    "    if file_name.endswith('.jpg') or file_name.endswith('.jpeg') or file_name.endswith('.png'):\n",
    "        # Leggi l'immagine\n",
    "        img_path = os.path.join(image_folder, file_name)\n",
    "        img = cv2.imread(img_path, cv2.IMREAD_GRAYSCALE)  # Usa IMREAD_COLOR per RGB\n",
    "        \n",
    "        # Ridimensiona l'immagine per uniformità\n",
    "        img_resized = cv2.resize(img, (64, 64))  # Adatta la dimensione secondo necessità\n",
    "        \n",
    "        # Appiattisci l'immagine in un vettore e aggiungila al dataset\n",
    "        img_flatten = img_resized.flatten()\n",
    "        data.append(img_flatten)\n",
    "\n",
    "# Converti i dati in un DataFrame\n",
    "df = pd.DataFrame(data)\n",
    "\n",
    "# Salva il DataFrame in CSV\n",
    "df.to_csv('other_dataset.csv', index=False)\n",
    "print(\"Dataset salvato in 'images_dataset.csv'\")"
   ]
  },
  {
   "cell_type": "code",
   "execution_count": 4,
   "metadata": {},
   "outputs": [
    {
     "name": "stdout",
     "output_type": "stream",
     "text": [
      "Dataset salvato in 'images_dataset.csv'\n"
     ]
    }
   ],
   "source": [
    "# Cartella contenente le immagini\n",
    "image_folder = \"C:\\\\Users\\\\ACER\\\\Downloads\\\\landscapes\"\n",
    "\n",
    "# Lista per i dati\n",
    "data = []\n",
    "\n",
    "# Itera sulle immagini nella cartella\n",
    "for file_name in os.listdir(image_folder):\n",
    "    if file_name.endswith('.jpg') or file_name.endswith('.jpeg') or file_name.endswith('.png'):\n",
    "        # Leggi l'immagine\n",
    "        img_path = os.path.join(image_folder, file_name)\n",
    "        img = cv2.imread(img_path, cv2.IMREAD_GRAYSCALE)  # Usa IMREAD_COLOR per RGB\n",
    "        \n",
    "        # Ridimensiona l'immagine per uniformità\n",
    "        img_resized = cv2.resize(img, (64, 64))  # Adatta la dimensione secondo necessità\n",
    "        \n",
    "        # Appiattisci l'immagine in un vettore e aggiungila al dataset\n",
    "        img_flatten = img_resized.flatten()\n",
    "        data.append(img_flatten)\n",
    "\n",
    "# Converti i dati in un DataFrame\n",
    "df = pd.DataFrame(data)\n",
    "\n",
    "# Salva il DataFrame in CSV\n",
    "df.to_csv('landscape_dataset.csv', index=False)\n",
    "print(\"Dataset salvato in 'images_dataset.csv'\")"
   ]
  },
  {
   "cell_type": "code",
   "execution_count": 7,
   "metadata": {},
   "outputs": [
    {
     "name": "stdout",
     "output_type": "stream",
     "text": [
      "Dataset salvato in 'images_dataset.csv'\n"
     ]
    }
   ],
   "source": [
    "# Cartella contenente le immagini\n",
    "image_folder = \"C:\\\\Users\\\\ACER\\\\Downloads\\\\bodyno\"\n",
    "\n",
    "# Lista per i dati\n",
    "data = []\n",
    "\n",
    "# Itera sulle immagini nella cartella\n",
    "for file_name in os.listdir(image_folder):\n",
    "    if file_name.endswith('.jpg') or file_name.endswith('.jpeg') or file_name.endswith('.png'):\n",
    "        # Leggi l'immagine\n",
    "        img_path = os.path.join(image_folder, file_name)\n",
    "        img = cv2.imread(img_path, cv2.IMREAD_GRAYSCALE)  # Usa IMREAD_COLOR per RGB\n",
    "        \n",
    "        # Ridimensiona l'immagine per uniformità\n",
    "        img_resized = cv2.resize(img, (64, 64))  # Adatta la dimensione secondo necessità\n",
    "        \n",
    "        # Appiattisci l'immagine in un vettore e aggiungila al dataset\n",
    "        img_flatten = img_resized.flatten()\n",
    "        data.append(img_flatten)\n",
    "\n",
    "# Converti i dati in un DataFrame\n",
    "df = pd.DataFrame(data)\n",
    "\n",
    "# Salva il DataFrame in CSV\n",
    "df.to_csv('body_no_face_dataset.csv', index=False)\n",
    "print(\"Dataset salvato in 'images_dataset.csv'\")"
   ]
  },
  {
   "cell_type": "code",
   "execution_count": 5,
   "metadata": {},
   "outputs": [
    {
     "name": "stdout",
     "output_type": "stream",
     "text": [
      "Impossibile caricare l'immagine: C:\\Users\\ACER\\Downloads\\bodyface\\104.jpg\n",
      "Impossibile caricare l'immagine: C:\\Users\\ACER\\Downloads\\bodyface\\533.jpg\n",
      "Impossibile caricare l'immagine: C:\\Users\\ACER\\Downloads\\bodyface\\788.jpg\n",
      "Dataset salvato in 'bodyface_dataset.csv'\n"
     ]
    }
   ],
   "source": [
    "\n",
    "# Cartella contenente le immagini\n",
    "image_folder = \"C:\\\\Users\\\\ACER\\\\Downloads\\\\bodyface\"\n",
    "\n",
    "# Lista per i dati\n",
    "data = []\n",
    "\n",
    "# Itera sulle immagini nella cartella\n",
    "for file_name in os.listdir(image_folder):\n",
    "    if file_name.endswith('.jpg') or file_name.endswith('.jpeg') or file_name.endswith('.png'):\n",
    "        # Percorso completo dell'immagine\n",
    "        img_path = os.path.join(image_folder, file_name)\n",
    "        \n",
    "        # Leggi l'immagine\n",
    "        img = cv2.imread(img_path, cv2.IMREAD_GRAYSCALE)  # Usa IMREAD_COLOR per RGB\n",
    "        \n",
    "        # Verifica che l'immagine sia stata letta correttamente\n",
    "        if img is None:\n",
    "            print(f\"Impossibile caricare l'immagine: {img_path}\")\n",
    "            continue\n",
    "        \n",
    "        # Ridimensiona l'immagine per uniformità\n",
    "        img_resized = cv2.resize(img, (64, 64))  # Adatta la dimensione secondo necessità\n",
    "        \n",
    "        # Appiattisci l'immagine in un vettore e aggiungila al dataset\n",
    "        img_flatten = img_resized.flatten()\n",
    "        data.append(img_flatten)\n",
    "\n",
    "# Converti i dati in un DataFrame\n",
    "df = pd.DataFrame(data)\n",
    "\n",
    "# Salva il DataFrame in CSV\n",
    "df.to_csv('bodyface_dataset.csv', index=False)\n",
    "print(\"Dataset salvato in 'bodyface_dataset.csv'\")"
   ]
  },
  {
   "cell_type": "code",
   "execution_count": null,
   "metadata": {},
   "outputs": [],
   "source": []
  }
 ],
 "metadata": {
  "kernelspec": {
   "display_name": "its",
   "language": "python",
   "name": "python3"
  },
  "language_info": {
   "codemirror_mode": {
    "name": "ipython",
    "version": 3
   },
   "file_extension": ".py",
   "mimetype": "text/x-python",
   "name": "python",
   "nbconvert_exporter": "python",
   "pygments_lexer": "ipython3",
   "version": "3.12.2"
  }
 },
 "nbformat": 4,
 "nbformat_minor": 2
}
